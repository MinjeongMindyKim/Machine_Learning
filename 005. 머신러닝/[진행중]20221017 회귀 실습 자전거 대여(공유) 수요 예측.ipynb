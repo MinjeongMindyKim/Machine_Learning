{
 "cells": [
  {
   "cell_type": "markdown",
   "metadata": {},
   "source": [
    "# 회귀 실습: 자전거 대여(공유) 수요 예측\n",
    "\n",
    "1. csv 파일 읽어오기\n",
    "2. info, desc\n",
    "3. datetime 필드 -> 년, 월, 일, 시간\n",
    "4. casual(사전에 등록되지 않은 사용자가 대여한 횟수), registered(사용자가 이미 등록되어 있는 사용자의 대여 횟수) 변수가 있음. \n",
    "\n",
    "둘을 더하면 총 개수인 y값. 피쳐값 x에 놓으면 오히려 안 좋다. 결정값과 중복되는 값이니 드롭을 시키는 게 좋다.\n",
    "\n",
    "5. x의 피처별count의 관계를 막대그래프로 시각화\n",
    "6. 데이터 분리\n",
    "7. 모델 설정: linearRegression()\n",
    "8. 훈련, predict\n",
    "9. matric(rmse, rmsle) 보기\n",
    "-----\n",
    "10. feature들을 one-hot encoding으로 변환\n",
    "*주요 infortance값 시각화 (coef_)\n",
    "\n",
    "11. RandomForestRegressor, GradientBoostingRegressor 알고리즘 사용\n",
    "XGBRegressor, LGBMRe\n",
    "* date : hourly date + timestamp\n",
    "* season : 1 = 봄, 2 = 여름, 3 = 가을, 4 = 겨울\n",
    "* holiday : 1 = 토, 일요일의 주말을 제외한 국경일 등의 휴일, 0 = 휴일이 아닌날\n",
    "* workingday : 1 = 토, 일요일의 주말 및 휴일이 아닌 주중, 0 = 주말 및 휴일\n",
    "* weather : 1=맑음, 약간 구름 낀 흐림, 2=안개, 안개 + 흐림, 3=가벼운 눈, 가벼운 비 + 천둥, 4=심한 눈/비, 천둥/번개\n",
    "* temp:온도(섭씨)\n",
    "* atemp:체감온도(섭씨)\n",
    "* humidity:상대습도\n",
    "* windspeed:풍속\n",
    "* casual:사전에 등록되지 않는 사용자가 대여한 횟수\n",
    "* registered:사전에 등록된 사용자가 대여한 횟수\n",
    "* count:대여 횟수"
   ]
  },
  {
   "cell_type": "markdown",
   "metadata": {},
   "source": [
    "## 1. csv 파일 읽어오기"
   ]
  },
  {
   "cell_type": "code",
   "execution_count": 11,
   "metadata": {},
   "outputs": [],
   "source": [
    "# bike_sd -> bike sharing demand"
   ]
  },
  {
   "cell_type": "code",
   "execution_count": 2,
   "metadata": {},
   "outputs": [],
   "source": [
    "from sklearn.tree import DecisionTreeClassifier\n",
    "from sklearn.model_selection import cross_val_score , cross_validate\n",
    "from sklearn.datasets import load_iris"
   ]
  },
  {
   "cell_type": "code",
   "execution_count": 20,
   "metadata": {},
   "outputs": [
    {
     "name": "stdout",
     "output_type": "stream",
     "text": [
      "                  datetime  season  holiday  workingday  weather   temp  \\\n",
      "0      2011-01-01 00:00:00       1        0           0        1   9.84   \n",
      "1      2011-01-01 01:00:00       1        0           0        1   9.02   \n",
      "2      2011-01-01 02:00:00       1        0           0        1   9.02   \n",
      "3      2011-01-01 03:00:00       1        0           0        1   9.84   \n",
      "4      2011-01-01 04:00:00       1        0           0        1   9.84   \n",
      "...                    ...     ...      ...         ...      ...    ...   \n",
      "10881  2012-12-19 19:00:00       4        0           1        1  15.58   \n",
      "10882  2012-12-19 20:00:00       4        0           1        1  14.76   \n",
      "10883  2012-12-19 21:00:00       4        0           1        1  13.94   \n",
      "10884  2012-12-19 22:00:00       4        0           1        1  13.94   \n",
      "10885  2012-12-19 23:00:00       4        0           1        1  13.12   \n",
      "\n",
      "        atemp  humidity  windspeed  casual  registered  count  \n",
      "0      14.395        81     0.0000       3          13     16  \n",
      "1      13.635        80     0.0000       8          32     40  \n",
      "2      13.635        80     0.0000       5          27     32  \n",
      "3      14.395        75     0.0000       3          10     13  \n",
      "4      14.395        75     0.0000       0           1      1  \n",
      "...       ...       ...        ...     ...         ...    ...  \n",
      "10881  19.695        50    26.0027       7         329    336  \n",
      "10882  17.425        57    15.0013      10         231    241  \n",
      "10883  15.910        61    15.0013       4         164    168  \n",
      "10884  17.425        61     6.0032      12         117    129  \n",
      "10885  16.665        66     8.9981       4          84     88  \n",
      "\n",
      "[10886 rows x 12 columns]\n",
      "\n",
      "\n",
      "                  datetime  season  holiday  workingday  weather   temp  \\\n",
      "0      2011-01-01 00:00:00       1        0           0        1   9.84   \n",
      "1      2011-01-01 01:00:00       1        0           0        1   9.02   \n",
      "2      2011-01-01 02:00:00       1        0           0        1   9.02   \n",
      "3      2011-01-01 03:00:00       1        0           0        1   9.84   \n",
      "4      2011-01-01 04:00:00       1        0           0        1   9.84   \n",
      "...                    ...     ...      ...         ...      ...    ...   \n",
      "10881  2012-12-19 19:00:00       4        0           1        1  15.58   \n",
      "10882  2012-12-19 20:00:00       4        0           1        1  14.76   \n",
      "10883  2012-12-19 21:00:00       4        0           1        1  13.94   \n",
      "10884  2012-12-19 22:00:00       4        0           1        1  13.94   \n",
      "10885  2012-12-19 23:00:00       4        0           1        1  13.12   \n",
      "\n",
      "        atemp  humidity  windspeed  casual  registered  count  \n",
      "0      14.395        81     0.0000       3          13     16  \n",
      "1      13.635        80     0.0000       8          32     40  \n",
      "2      13.635        80     0.0000       5          27     32  \n",
      "3      14.395        75     0.0000       3          10     13  \n",
      "4      14.395        75     0.0000       0           1      1  \n",
      "...       ...       ...        ...     ...         ...    ...  \n",
      "10881  19.695        50    26.0027       7         329    336  \n",
      "10882  17.425        57    15.0013      10         231    241  \n",
      "10883  15.910        61    15.0013       4         164    168  \n",
      "10884  17.425        61     6.0032      12         117    129  \n",
      "10885  16.665        66     8.9981       4          84     88  \n",
      "\n",
      "[10886 rows x 12 columns]\n"
     ]
    }
   ],
   "source": [
    "import pandas as pd\n",
    "\n",
    "file_path = './bike_train.csv'\n",
    "df1 = pd.read_csv(file_path)\n",
    "print(df1)\n",
    "print('\\n')\n",
    "\n",
    "df2 = pd.read_csv(file_path)\n",
    "print(df2)"
   ]
  },
  {
   "cell_type": "markdown",
   "metadata": {},
   "source": [
    "## 2. info, desc"
   ]
  },
  {
   "cell_type": "code",
   "execution_count": 13,
   "metadata": {},
   "outputs": [
    {
     "name": "stdout",
     "output_type": "stream",
     "text": [
      "<class 'pandas.core.frame.DataFrame'>\n",
      "RangeIndex: 10887 entries, 0 to 10886\n",
      "Data columns (total 12 columns):\n",
      " #   Column  Non-Null Count  Dtype \n",
      "---  ------  --------------  ----- \n",
      " 0   0       10887 non-null  object\n",
      " 1   1       10887 non-null  object\n",
      " 2   2       10887 non-null  object\n",
      " 3   3       10887 non-null  object\n",
      " 4   4       10887 non-null  object\n",
      " 5   5       10887 non-null  object\n",
      " 6   6       10887 non-null  object\n",
      " 7   7       10887 non-null  object\n",
      " 8   8       10887 non-null  object\n",
      " 9   9       10887 non-null  object\n",
      " 10  10      10887 non-null  object\n",
      " 11  11      10887 non-null  object\n",
      "dtypes: object(12)\n",
      "memory usage: 1020.8+ KB\n",
      "None\n"
     ]
    }
   ],
   "source": [
    "print(df2.info())"
   ]
  },
  {
   "cell_type": "code",
   "execution_count": 15,
   "metadata": {},
   "outputs": [
    {
     "name": "stdout",
     "output_type": "stream",
     "text": [
      "              0      1      2      3      4      5      6      7      8   \\\n",
      "count      10887  10887  10887  10887  10887  10887  10887  10887  10887   \n",
      "unique     10887      5      3      3      5     50     61     90     29   \n",
      "top     datetime      4      0      1      1  14.76  31.06     88      0   \n",
      "freq           1   2734  10575   7412   7192    467    671    368   1313   \n",
      "\n",
      "           9      10     11  \n",
      "count   10887  10887  10887  \n",
      "unique    310    732    823  \n",
      "top         0      3      5  \n",
      "freq      986    195    169  \n"
     ]
    }
   ],
   "source": [
    "print(df2.describe())"
   ]
  },
  {
   "cell_type": "markdown",
   "metadata": {},
   "source": [
    "## 3. datetime 필드 -> 년, 월, 일, 시간"
   ]
  },
  {
   "cell_type": "code",
   "execution_count": 30,
   "metadata": {},
   "outputs": [
    {
     "data": {
      "text/plain": [
       "0        2011-01-01 00:00:00\n",
       "1        2011-01-01 01:00:00\n",
       "2        2011-01-01 02:00:00\n",
       "3        2011-01-01 03:00:00\n",
       "4        2011-01-01 04:00:00\n",
       "                ...         \n",
       "10881    2012-12-19 19:00:00\n",
       "10882    2012-12-19 20:00:00\n",
       "10883    2012-12-19 21:00:00\n",
       "10884    2012-12-19 22:00:00\n",
       "10885    2012-12-19 23:00:00\n",
       "Name: datetime, Length: 10886, dtype: object"
      ]
     },
     "execution_count": 30,
     "metadata": {},
     "output_type": "execute_result"
    }
   ],
   "source": [
    "df2['datetime']"
   ]
  },
  {
   "cell_type": "code",
   "execution_count": 51,
   "metadata": {},
   "outputs": [
    {
     "data": {
      "text/plain": [
       "0        2011-01-01\n",
       "1        2011-01-01\n",
       "2        2011-01-01\n",
       "3        2011-01-01\n",
       "4        2011-01-01\n",
       "            ...    \n",
       "10881    2012-12-19\n",
       "10882    2012-12-19\n",
       "10883    2012-12-19\n",
       "10884    2012-12-19\n",
       "10885    2012-12-19\n",
       "Name: time1, Length: 10886, dtype: object"
      ]
     },
     "execution_count": 51,
     "metadata": {},
     "output_type": "execute_result"
    }
   ],
   "source": [
    "df2['time1'] = df2['datetime'].apply(lambda x: x.split(' ')[0])\n",
    "df2['time1']"
   ]
  },
  {
   "cell_type": "code",
   "execution_count": 46,
   "metadata": {},
   "outputs": [
    {
     "data": {
      "text/plain": [
       "0        00:00:00\n",
       "1        01:00:00\n",
       "2        02:00:00\n",
       "3        03:00:00\n",
       "4        04:00:00\n",
       "           ...   \n",
       "10881    19:00:00\n",
       "10882    20:00:00\n",
       "10883    21:00:00\n",
       "10884    22:00:00\n",
       "10885    23:00:00\n",
       "Name: time2, Length: 10886, dtype: object"
      ]
     },
     "execution_count": 46,
     "metadata": {},
     "output_type": "execute_result"
    }
   ],
   "source": [
    "df2['time2'] = df2['datetime'].apply(lambda x: x.split(' ')[1])\n",
    "df2['time2']"
   ]
  },
  {
   "cell_type": "code",
   "execution_count": 53,
   "metadata": {},
   "outputs": [
    {
     "data": {
      "text/plain": [
       "0        [2011, 01, 01]\n",
       "1        [2011, 01, 01]\n",
       "2        [2011, 01, 01]\n",
       "3        [2011, 01, 01]\n",
       "4        [2011, 01, 01]\n",
       "              ...      \n",
       "10881    [2012, 12, 19]\n",
       "10882    [2012, 12, 19]\n",
       "10883    [2012, 12, 19]\n",
       "10884    [2012, 12, 19]\n",
       "10885    [2012, 12, 19]\n",
       "Name: time1, Length: 10886, dtype: object"
      ]
     },
     "execution_count": 53,
     "metadata": {},
     "output_type": "execute_result"
    }
   ],
   "source": [
    "df2['time1'].apply(lambda x: x.split('-'))"
   ]
  },
  {
   "cell_type": "code",
   "execution_count": 73,
   "metadata": {},
   "outputs": [],
   "source": [
    "df2['year'] = df2['time1'].apply(lambda x: x.split('-')[0])\n",
    "df2['month'] = df2['time1'].apply(lambda x: x.split('-')[1])\n",
    "df2['day'] = df2['time1'].apply(lambda x: x.split('-')[2])\n",
    "df2['time2'] = df2['datetime'].apply(lambda x: x.split(' ')[1])\n",
    "#[1]이런 인덱스 괄호 위치에 따라 행으로 추출되기도, 열로 추출되기도 함"
   ]
  },
  {
   "cell_type": "code",
   "execution_count": 57,
   "metadata": {},
   "outputs": [
    {
     "data": {
      "text/plain": [
       "0        2011-01-01\n",
       "1        2011-01-01\n",
       "2        2011-01-01\n",
       "3        2011-01-01\n",
       "4        2011-01-01\n",
       "            ...    \n",
       "10881    2012-12-19\n",
       "10882    2012-12-19\n",
       "10883    2012-12-19\n",
       "10884    2012-12-19\n",
       "10885    2012-12-19\n",
       "Name: time1, Length: 10886, dtype: object"
      ]
     },
     "execution_count": 57,
     "metadata": {},
     "output_type": "execute_result"
    }
   ],
   "source": [
    "df2['time1']"
   ]
  },
  {
   "cell_type": "code",
   "execution_count": 61,
   "metadata": {},
   "outputs": [
    {
     "data": {
      "text/plain": [
       "0        2011-01-01\n",
       "1        2011-01-01\n",
       "2        2011-01-01\n",
       "3        2011-01-01\n",
       "4        2011-01-01\n",
       "            ...    \n",
       "10881    2012-12-19\n",
       "10882    2012-12-19\n",
       "10883    2012-12-19\n",
       "10884    2012-12-19\n",
       "10885    2012-12-19\n",
       "Name: time1, Length: 10886, dtype: object"
      ]
     },
     "execution_count": 61,
     "metadata": {},
     "output_type": "execute_result"
    }
   ],
   "source": [
    "df2['time1']"
   ]
  },
  {
   "cell_type": "code",
   "execution_count": 62,
   "metadata": {},
   "outputs": [
    {
     "data": {
      "text/plain": [
       "0        [2011, 01, 01]\n",
       "1        [2011, 01, 01]\n",
       "2        [2011, 01, 01]\n",
       "3        [2011, 01, 01]\n",
       "4        [2011, 01, 01]\n",
       "              ...      \n",
       "10881    [2012, 12, 19]\n",
       "10882    [2012, 12, 19]\n",
       "10883    [2012, 12, 19]\n",
       "10884    [2012, 12, 19]\n",
       "10885    [2012, 12, 19]\n",
       "Name: time1, Length: 10886, dtype: object"
      ]
     },
     "execution_count": 62,
     "metadata": {},
     "output_type": "execute_result"
    }
   ],
   "source": [
    "df2['time1'].apply(lambda x: x.split('-'))"
   ]
  },
  {
   "cell_type": "markdown",
   "metadata": {},
   "source": [
    "## 4. casual(사전에 등록되지 않은 사용자가 대여한 횟수), registered(사용자가 이미 등록되어 있는 사용자의 대여 횟수) 변수가 있음. \n",
    "\n",
    "둘을 더하면 총 개수인 y값. 피쳐값 x에 놓으면 오히려 안 좋다. 결정값과 중복되는 값이니 드롭을 시키는 게 좋다."
   ]
  },
  {
   "cell_type": "code",
   "execution_count": 77,
   "metadata": {},
   "outputs": [],
   "source": [
    "df2.drop(['casual', 'registered'], axis = 1, inplace = True)"
   ]
  },
  {
   "cell_type": "code",
   "execution_count": 78,
   "metadata": {},
   "outputs": [
    {
     "data": {
      "text/html": [
       "<div>\n",
       "<style scoped>\n",
       "    .dataframe tbody tr th:only-of-type {\n",
       "        vertical-align: middle;\n",
       "    }\n",
       "\n",
       "    .dataframe tbody tr th {\n",
       "        vertical-align: top;\n",
       "    }\n",
       "\n",
       "    .dataframe thead th {\n",
       "        text-align: right;\n",
       "    }\n",
       "</style>\n",
       "<table border=\"1\" class=\"dataframe\">\n",
       "  <thead>\n",
       "    <tr style=\"text-align: right;\">\n",
       "      <th></th>\n",
       "      <th>datetime</th>\n",
       "      <th>season</th>\n",
       "      <th>holiday</th>\n",
       "      <th>workingday</th>\n",
       "      <th>weather</th>\n",
       "      <th>temp</th>\n",
       "      <th>atemp</th>\n",
       "      <th>humidity</th>\n",
       "      <th>windspeed</th>\n",
       "      <th>count</th>\n",
       "      <th>time</th>\n",
       "      <th>time2</th>\n",
       "      <th>time1</th>\n",
       "      <th>year</th>\n",
       "      <th>month</th>\n",
       "      <th>day</th>\n",
       "    </tr>\n",
       "  </thead>\n",
       "  <tbody>\n",
       "    <tr>\n",
       "      <th>0</th>\n",
       "      <td>2011-01-01 00:00:00</td>\n",
       "      <td>1</td>\n",
       "      <td>0</td>\n",
       "      <td>0</td>\n",
       "      <td>1</td>\n",
       "      <td>9.84</td>\n",
       "      <td>14.395</td>\n",
       "      <td>81</td>\n",
       "      <td>0.0000</td>\n",
       "      <td>16</td>\n",
       "      <td>2011-01-01</td>\n",
       "      <td>00:00:00</td>\n",
       "      <td>2011-01-01</td>\n",
       "      <td>2011</td>\n",
       "      <td>01</td>\n",
       "      <td>01</td>\n",
       "    </tr>\n",
       "    <tr>\n",
       "      <th>1</th>\n",
       "      <td>2011-01-01 01:00:00</td>\n",
       "      <td>1</td>\n",
       "      <td>0</td>\n",
       "      <td>0</td>\n",
       "      <td>1</td>\n",
       "      <td>9.02</td>\n",
       "      <td>13.635</td>\n",
       "      <td>80</td>\n",
       "      <td>0.0000</td>\n",
       "      <td>40</td>\n",
       "      <td>2011-01-01</td>\n",
       "      <td>01:00:00</td>\n",
       "      <td>2011-01-01</td>\n",
       "      <td>2011</td>\n",
       "      <td>01</td>\n",
       "      <td>01</td>\n",
       "    </tr>\n",
       "    <tr>\n",
       "      <th>2</th>\n",
       "      <td>2011-01-01 02:00:00</td>\n",
       "      <td>1</td>\n",
       "      <td>0</td>\n",
       "      <td>0</td>\n",
       "      <td>1</td>\n",
       "      <td>9.02</td>\n",
       "      <td>13.635</td>\n",
       "      <td>80</td>\n",
       "      <td>0.0000</td>\n",
       "      <td>32</td>\n",
       "      <td>2011-01-01</td>\n",
       "      <td>02:00:00</td>\n",
       "      <td>2011-01-01</td>\n",
       "      <td>2011</td>\n",
       "      <td>01</td>\n",
       "      <td>01</td>\n",
       "    </tr>\n",
       "    <tr>\n",
       "      <th>3</th>\n",
       "      <td>2011-01-01 03:00:00</td>\n",
       "      <td>1</td>\n",
       "      <td>0</td>\n",
       "      <td>0</td>\n",
       "      <td>1</td>\n",
       "      <td>9.84</td>\n",
       "      <td>14.395</td>\n",
       "      <td>75</td>\n",
       "      <td>0.0000</td>\n",
       "      <td>13</td>\n",
       "      <td>2011-01-01</td>\n",
       "      <td>03:00:00</td>\n",
       "      <td>2011-01-01</td>\n",
       "      <td>2011</td>\n",
       "      <td>01</td>\n",
       "      <td>01</td>\n",
       "    </tr>\n",
       "    <tr>\n",
       "      <th>4</th>\n",
       "      <td>2011-01-01 04:00:00</td>\n",
       "      <td>1</td>\n",
       "      <td>0</td>\n",
       "      <td>0</td>\n",
       "      <td>1</td>\n",
       "      <td>9.84</td>\n",
       "      <td>14.395</td>\n",
       "      <td>75</td>\n",
       "      <td>0.0000</td>\n",
       "      <td>1</td>\n",
       "      <td>2011-01-01</td>\n",
       "      <td>04:00:00</td>\n",
       "      <td>2011-01-01</td>\n",
       "      <td>2011</td>\n",
       "      <td>01</td>\n",
       "      <td>01</td>\n",
       "    </tr>\n",
       "    <tr>\n",
       "      <th>...</th>\n",
       "      <td>...</td>\n",
       "      <td>...</td>\n",
       "      <td>...</td>\n",
       "      <td>...</td>\n",
       "      <td>...</td>\n",
       "      <td>...</td>\n",
       "      <td>...</td>\n",
       "      <td>...</td>\n",
       "      <td>...</td>\n",
       "      <td>...</td>\n",
       "      <td>...</td>\n",
       "      <td>...</td>\n",
       "      <td>...</td>\n",
       "      <td>...</td>\n",
       "      <td>...</td>\n",
       "      <td>...</td>\n",
       "    </tr>\n",
       "    <tr>\n",
       "      <th>10881</th>\n",
       "      <td>2012-12-19 19:00:00</td>\n",
       "      <td>4</td>\n",
       "      <td>0</td>\n",
       "      <td>1</td>\n",
       "      <td>1</td>\n",
       "      <td>15.58</td>\n",
       "      <td>19.695</td>\n",
       "      <td>50</td>\n",
       "      <td>26.0027</td>\n",
       "      <td>336</td>\n",
       "      <td>2012-12-19</td>\n",
       "      <td>19:00:00</td>\n",
       "      <td>2012-12-19</td>\n",
       "      <td>2012</td>\n",
       "      <td>12</td>\n",
       "      <td>19</td>\n",
       "    </tr>\n",
       "    <tr>\n",
       "      <th>10882</th>\n",
       "      <td>2012-12-19 20:00:00</td>\n",
       "      <td>4</td>\n",
       "      <td>0</td>\n",
       "      <td>1</td>\n",
       "      <td>1</td>\n",
       "      <td>14.76</td>\n",
       "      <td>17.425</td>\n",
       "      <td>57</td>\n",
       "      <td>15.0013</td>\n",
       "      <td>241</td>\n",
       "      <td>2012-12-19</td>\n",
       "      <td>20:00:00</td>\n",
       "      <td>2012-12-19</td>\n",
       "      <td>2012</td>\n",
       "      <td>12</td>\n",
       "      <td>19</td>\n",
       "    </tr>\n",
       "    <tr>\n",
       "      <th>10883</th>\n",
       "      <td>2012-12-19 21:00:00</td>\n",
       "      <td>4</td>\n",
       "      <td>0</td>\n",
       "      <td>1</td>\n",
       "      <td>1</td>\n",
       "      <td>13.94</td>\n",
       "      <td>15.910</td>\n",
       "      <td>61</td>\n",
       "      <td>15.0013</td>\n",
       "      <td>168</td>\n",
       "      <td>2012-12-19</td>\n",
       "      <td>21:00:00</td>\n",
       "      <td>2012-12-19</td>\n",
       "      <td>2012</td>\n",
       "      <td>12</td>\n",
       "      <td>19</td>\n",
       "    </tr>\n",
       "    <tr>\n",
       "      <th>10884</th>\n",
       "      <td>2012-12-19 22:00:00</td>\n",
       "      <td>4</td>\n",
       "      <td>0</td>\n",
       "      <td>1</td>\n",
       "      <td>1</td>\n",
       "      <td>13.94</td>\n",
       "      <td>17.425</td>\n",
       "      <td>61</td>\n",
       "      <td>6.0032</td>\n",
       "      <td>129</td>\n",
       "      <td>2012-12-19</td>\n",
       "      <td>22:00:00</td>\n",
       "      <td>2012-12-19</td>\n",
       "      <td>2012</td>\n",
       "      <td>12</td>\n",
       "      <td>19</td>\n",
       "    </tr>\n",
       "    <tr>\n",
       "      <th>10885</th>\n",
       "      <td>2012-12-19 23:00:00</td>\n",
       "      <td>4</td>\n",
       "      <td>0</td>\n",
       "      <td>1</td>\n",
       "      <td>1</td>\n",
       "      <td>13.12</td>\n",
       "      <td>16.665</td>\n",
       "      <td>66</td>\n",
       "      <td>8.9981</td>\n",
       "      <td>88</td>\n",
       "      <td>2012-12-19</td>\n",
       "      <td>23:00:00</td>\n",
       "      <td>2012-12-19</td>\n",
       "      <td>2012</td>\n",
       "      <td>12</td>\n",
       "      <td>19</td>\n",
       "    </tr>\n",
       "  </tbody>\n",
       "</table>\n",
       "<p>10886 rows × 16 columns</p>\n",
       "</div>"
      ],
      "text/plain": [
       "                  datetime  season  holiday  workingday  weather   temp  \\\n",
       "0      2011-01-01 00:00:00       1        0           0        1   9.84   \n",
       "1      2011-01-01 01:00:00       1        0           0        1   9.02   \n",
       "2      2011-01-01 02:00:00       1        0           0        1   9.02   \n",
       "3      2011-01-01 03:00:00       1        0           0        1   9.84   \n",
       "4      2011-01-01 04:00:00       1        0           0        1   9.84   \n",
       "...                    ...     ...      ...         ...      ...    ...   \n",
       "10881  2012-12-19 19:00:00       4        0           1        1  15.58   \n",
       "10882  2012-12-19 20:00:00       4        0           1        1  14.76   \n",
       "10883  2012-12-19 21:00:00       4        0           1        1  13.94   \n",
       "10884  2012-12-19 22:00:00       4        0           1        1  13.94   \n",
       "10885  2012-12-19 23:00:00       4        0           1        1  13.12   \n",
       "\n",
       "        atemp  humidity  windspeed  count        time     time2       time1  \\\n",
       "0      14.395        81     0.0000     16  2011-01-01  00:00:00  2011-01-01   \n",
       "1      13.635        80     0.0000     40  2011-01-01  01:00:00  2011-01-01   \n",
       "2      13.635        80     0.0000     32  2011-01-01  02:00:00  2011-01-01   \n",
       "3      14.395        75     0.0000     13  2011-01-01  03:00:00  2011-01-01   \n",
       "4      14.395        75     0.0000      1  2011-01-01  04:00:00  2011-01-01   \n",
       "...       ...       ...        ...    ...         ...       ...         ...   \n",
       "10881  19.695        50    26.0027    336  2012-12-19  19:00:00  2012-12-19   \n",
       "10882  17.425        57    15.0013    241  2012-12-19  20:00:00  2012-12-19   \n",
       "10883  15.910        61    15.0013    168  2012-12-19  21:00:00  2012-12-19   \n",
       "10884  17.425        61     6.0032    129  2012-12-19  22:00:00  2012-12-19   \n",
       "10885  16.665        66     8.9981     88  2012-12-19  23:00:00  2012-12-19   \n",
       "\n",
       "       year month day  \n",
       "0      2011    01  01  \n",
       "1      2011    01  01  \n",
       "2      2011    01  01  \n",
       "3      2011    01  01  \n",
       "4      2011    01  01  \n",
       "...     ...   ...  ..  \n",
       "10881  2012    12  19  \n",
       "10882  2012    12  19  \n",
       "10883  2012    12  19  \n",
       "10884  2012    12  19  \n",
       "10885  2012    12  19  \n",
       "\n",
       "[10886 rows x 16 columns]"
      ]
     },
     "execution_count": 78,
     "metadata": {},
     "output_type": "execute_result"
    }
   ],
   "source": [
    "df2"
   ]
  },
  {
   "cell_type": "markdown",
   "metadata": {},
   "source": [
    "## 5. x의 피처별count의 관계를 막대그래프로 시각화"
   ]
  },
  {
   "cell_type": "code",
   "execution_count": 80,
   "metadata": {},
   "outputs": [
    {
     "data": {
      "text/plain": [
       "<function print>"
      ]
     },
     "execution_count": 80,
     "metadata": {},
     "output_type": "execute_result"
    }
   ],
   "source": [
    "import seaborn as sns\n",
    "import numpy as np\n",
    "%matplotlib inline\n",
    "\n",
    "print"
   ]
  },
  {
   "cell_type": "code",
   "execution_count": null,
   "metadata": {},
   "outputs": [],
   "source": []
  }
 ],
 "metadata": {
  "kernelspec": {
   "display_name": "Python 3.9.12 ('base')",
   "language": "python",
   "name": "python3"
  },
  "language_info": {
   "codemirror_mode": {
    "name": "ipython",
    "version": 3
   },
   "file_extension": ".py",
   "mimetype": "text/x-python",
   "name": "python",
   "nbconvert_exporter": "python",
   "pygments_lexer": "ipython3",
   "version": "3.9.12"
  },
  "orig_nbformat": 4,
  "vscode": {
   "interpreter": {
    "hash": "48e1c78af2a3f7c06a1e71f0e3bb5c0905c9060142a06157d784f77dcb7806cd"
   }
  }
 },
 "nbformat": 4,
 "nbformat_minor": 2
}
